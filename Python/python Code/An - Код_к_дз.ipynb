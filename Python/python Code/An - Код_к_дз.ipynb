{
 "cells": [
  {
   "cell_type": "code",
   "execution_count": null,
   "metadata": {},
   "outputs": [],
   "source": [
    "import numpy as np\n",
    "\n",
    "class Perceptron():\n",
    "\n",
    "    def __init__(self, n_ep=10, speed = 0.1):\n",
    "        self.n_ep = n_ep\n",
    "        self.speed_of_learning = speed\n",
    "\n",
    "    def fit(self, X, y):\n",
    "        print(\"Начато обучение...\")\n",
    "        self.w_array = np.zeros(X.shape[1] + 1)\n",
    "\n",
    "        for epoha in range(self.n_ep):\n",
    "            for i in range(X.shape[0]):\n",
    "                delta = self.speed_of_learning * (y[i] - self.predict(X[i]))\n",
    "                for j in range(0, len(self.w_array)-1):\n",
    "                    self.w_array[j] += delta * X[i][j]\n",
    "                self.w_array[len(self.w_array)-1] += delta\n",
    "\n",
    "    def predict(self, x):\n",
    "        x = np.append(x, 1)\n",
    "        return np.where(sum(self.w_array*x) >= 0.0, 1, 0)\n",
    "\n",
    "\n",
    "\n",
    "\n",
    "percept = Perceptron(n_ep=100, speed=0.01)\n",
    "\n",
    "\n",
    "X = np.array([[0, 0],\n",
    "              [1, 1],\n",
    "              [1, 0],\n",
    "              [0, 1]])\n",
    "\n",
    "y = np.array([0,\n",
    "              1,\n",
    "              1,\n",
    "              1])\n",
    "\n",
    "\n",
    "\n",
    "percept.fit(X, y)\n",
    "\n",
    "\n",
    "\n",
    "\n",
    "while True:\n",
    "    x1 = int(input(\"Введите первое число\\n\"))\n",
    "    x2 = int(input(\"Введите второе число\\n\"))\n",
    "    print(x1, \"or\", x2, \"=\", percept.predict([x1, x2]), \"\\n\")"
   ]
  },
  {
   "cell_type": "code",
   "execution_count": null,
   "metadata": {},
   "outputs": [],
   "source": []
  }
 ],
 "metadata": {
  "kernelspec": {
   "display_name": "Python 3",
   "language": "python",
   "name": "python3"
  },
  "language_info": {
   "codemirror_mode": {
    "name": "ipython",
    "version": 3
   },
   "file_extension": ".py",
   "mimetype": "text/x-python",
   "name": "python",
   "nbconvert_exporter": "python",
   "pygments_lexer": "ipython3",
   "version": "3.6.5"
  }
 },
 "nbformat": 4,
 "nbformat_minor": 2
}
